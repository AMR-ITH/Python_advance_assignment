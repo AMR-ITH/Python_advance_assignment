{
  "nbformat": 4,
  "nbformat_minor": 0,
  "metadata": {
    "colab": {
      "provenance": [],
      "authorship_tag": "ABX9TyP2HyWTMt2lhm94PtXrY3+b",
      "include_colab_link": true
    },
    "kernelspec": {
      "name": "python3",
      "display_name": "Python 3"
    },
    "language_info": {
      "name": "python"
    }
  },
  "cells": [
    {
      "cell_type": "markdown",
      "metadata": {
        "id": "view-in-github",
        "colab_type": "text"
      },
      "source": [
        "<a href=\"https://colab.research.google.com/github/AMR-ITH/Python_advance_assignment/blob/main/Assignment4.ipynb\" target=\"_parent\"><img src=\"https://colab.research.google.com/assets/colab-badge.svg\" alt=\"Open In Colab\"/></a>"
      ]
    },
    {
      "cell_type": "markdown",
      "source": [
        "Q1. Which two operator overloading methods can you use in your classes to support iteration?\n",
        "\n",
        "Ans: Using  __iter__ and __next__ the iter method converts the oject into itterator then using next method we can traverse to the next element till the end of limit as the element crosses the limit we should raise an exception\n",
        "\n",
        "Q2. In what contexts do the two operator overloading methods manage printing?\n",
        "\n",
        "Ans: Using __str__ and __repr__ str method is usually used to represent the object in user readable form where as repr method is used to repersent the internal state of object it helps in debuging of the object if any error occurs\n",
        "\n",
        "Q3. In a class, how do you intercept slice operations?\n",
        "\n",
        "Ans:The __getitem__ method is used for accessing list items, array elements, dictionary entries etc. slice is a constructor in Python that creates slice object to represent set of indices that the range(start, stop, step) specifies. __getitem__ method \n",
        "\n",
        "ex:__getitem__(slice(start, stop, step))\n",
        "\n",
        "Q4. In a class, how do you capture in-place addition?\n",
        "\n",
        "Ans: Using __iadd__ here the first argument should be an iterable oject when it is contatenated it changes dimension of the first argument and it would return the first argument\n",
        "\n",
        "Q5. When is it appropriate to use operator overloading?\n",
        "\n",
        "Ans:Operator overloading is mostly useful when you're making a new class that falls into an existing \"Abstract Base Class\" (ABC) -- indeed, many of the ABCs in standard library module collections rely on the presence of certain special methods (and special methods, one with names starting and ending with double underscores i.e dunder method\n"
      ],
      "metadata": {
        "id": "W416QIiuwftT"
      }
    }
  ]
}