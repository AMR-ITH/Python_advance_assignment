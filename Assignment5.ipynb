{
  "nbformat": 4,
  "nbformat_minor": 0,
  "metadata": {
    "colab": {
      "provenance": [],
      "authorship_tag": "ABX9TyPDaKzTLgSA/63n+UAxcX77",
      "include_colab_link": true
    },
    "kernelspec": {
      "name": "python3",
      "display_name": "Python 3"
    },
    "language_info": {
      "name": "python"
    }
  },
  "cells": [
    {
      "cell_type": "markdown",
      "metadata": {
        "id": "view-in-github",
        "colab_type": "text"
      },
      "source": [
        "<a href=\"https://colab.research.google.com/github/AMR-ITH/Python_advance_assignment/blob/main/Assignment5.ipynb\" target=\"_parent\"><img src=\"https://colab.research.google.com/assets/colab-badge.svg\" alt=\"Open In Colab\"/></a>"
      ]
    },
    {
      "cell_type": "markdown",
      "source": [
        "Q1. What is the meaning of multiple inheritance?\n",
        "\n",
        "Ans: Inheriting more than one parent class in the child class or the sub class\n",
        "\n",
        "Q2. What is the concept of delegation?\n",
        "\n",
        "Ans: classes implement a wrapper layer around another object to create a kind of proxy object. A proxy is an object exposes the same interface as another object but, for some reason, isn’t related to the original object via inheritance\n",
        "\n",
        "Q3. What is the concept of composition?\n",
        "\n",
        "Ans:Composition where an entirely new object is created from other objects but with its own unique set of methods and attributes\n",
        "\n",
        "Q4. What are bound methods and how do we use them?\n",
        "\n",
        "Ans:A bound method is the one which is dependent on the instance of the class as the first argument. It passes the instance as the first argument which is used to access the variables and functions. In Python 3 and newer versions of python, all functions in the class are by default bound method\n",
        "\n",
        "Q5. What is the purpose of pseudoprivate attributes?\n",
        "\n",
        "Ans:A private attribute provides you a level of protection from the users of your class, for that attribute. If you use a public attribute, you will need to add in more logic to test for invalid values up front, which can be more work, as well as more computationally expensive"
      ],
      "metadata": {
        "id": "S8Q2UrRDF7Q6"
      }
    }
  ]
}