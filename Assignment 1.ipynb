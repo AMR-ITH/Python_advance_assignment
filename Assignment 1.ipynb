{
 "cells": [
  {
   "cell_type": "markdown",
   "id": "e72612e1",
   "metadata": {},
   "source": [
    "Q1. What is the purpose of Python's OOP?\n",
    "\n",
    "Ans:Provides a clear program structure and a clean code\n",
    "Facilitates easy maintenance and modification of existing code\n",
    "Since the class is sharable, the code can be reused and many other such Advantages"
   ]
  },
  {
   "cell_type": "markdown",
   "id": "31791163",
   "metadata": {},
   "source": [
    "Q2. Where does an inheritance search look for an attribute?\n",
    "\n",
    "Ans:Inheritance looks for attributes in the subclass/child class then in the class the instance was created from, then in all higher superclasses, progressing from left to right"
   ]
  },
  {
   "cell_type": "markdown",
   "id": "bdfaf9c6",
   "metadata": {},
   "source": [
    "Q3. How do you distinguish between a class object and an instance object?\n",
    "\n",
    "Ans:Class object is a blueprint/skeleton for instance of the objects,whenever class is called which is done by declaring\n",
    "    to the variable ( i.e instance of the object)\n"
   ]
  },
  {
   "cell_type": "markdown",
   "id": "751239f7",
   "metadata": {},
   "source": [
    "Q4. What makes the first argument in a class’s method function special?\n",
    "\n",
    "Ans:The first argument in the class method indicates to the instance of object which the function binds too,also\n",
    "helps identifying which instance of the object it belong's .\n"
   ]
  },
  {
   "cell_type": "raw",
   "id": "73aad1d3",
   "metadata": {},
   "source": [
    "Q5. What is the purpose of the __init__ method?\n",
    "\n",
    "Ans:The  __init__ method helps in  initializing the instance variable (also called attributes) for the instance of class by providing data to the class "
   ]
  },
  {
   "cell_type": "raw",
   "id": "38a1605c",
   "metadata": {},
   "source": [
    "Q6. What is the process for creating a class instance?\n",
    "\n",
    "Ans Class instance can be created by declaring variable to the class i.e variable is nothing but object ex: amr=class_amr() "
   ]
  },
  {
   "cell_type": "raw",
   "id": "d0b451e8",
   "metadata": {},
   "source": [
    "Q7. What is the process for creating a class?\n",
    "\n",
    "Ans:eyword class followed by class name with parenthesies  ex: class class_amr: pass"
   ]
  },
  {
   "cell_type": "raw",
   "id": "db1cfdae",
   "metadata": {},
   "source": [
    "class class_amr:\n",
    "    def __int__(self):\n",
    "        print('instance variable')\n",
    "        \n",
    "    def method(self):\n",
    "        print('methods')"
   ]
  },
  {
   "cell_type": "raw",
   "id": "32540e36",
   "metadata": {},
   "source": [
    "Q8. How would you define the superclasses of a class?\n",
    "\n",
    "Ans:The subclass from which a class inherits is called the parent or superclass. A class which inherits from a superclass is called a subclass or child class"
   ]
  }
 ],
 "metadata": {
  "kernelspec": {
   "display_name": "Python 3 (ipykernel)",
   "language": "python",
   "name": "python3"
  },
  "language_info": {
   "codemirror_mode": {
    "name": "ipython",
    "version": 3
   },
   "file_extension": ".py",
   "mimetype": "text/x-python",
   "name": "python",
   "nbconvert_exporter": "python",
   "pygments_lexer": "ipython3",
   "version": "3.9.12"
  }
 },
 "nbformat": 4,
 "nbformat_minor": 5
}
