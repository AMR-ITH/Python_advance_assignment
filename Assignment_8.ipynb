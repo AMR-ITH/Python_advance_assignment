{
  "nbformat": 4,
  "nbformat_minor": 0,
  "metadata": {
    "colab": {
      "provenance": [],
      "authorship_tag": "ABX9TyPrkYF51QDui0szSTRgU+eo",
      "include_colab_link": true
    },
    "kernelspec": {
      "name": "python3",
      "display_name": "Python 3"
    },
    "language_info": {
      "name": "python"
    }
  },
  "cells": [
    {
      "cell_type": "markdown",
      "metadata": {
        "id": "view-in-github",
        "colab_type": "text"
      },
      "source": [
        "<a href=\"https://colab.research.google.com/github/AMR-ITH/Python_advance_assignment/blob/main/Assignment_8.ipynb\" target=\"_parent\"><img src=\"https://colab.research.google.com/assets/colab-badge.svg\" alt=\"Open In Colab\"/></a>"
      ]
    },
    {
      "cell_type": "markdown",
      "source": [
        "Q1. What are the two latest user-defined exception constraints in Python 3.X?\n",
        "\n",
        "Ans: Raise and assert are the two latest user-defined exception constraints in Python 3.X\n",
        "\n",
        "Q2. How are class-based exceptions that have been raised matched to handlers?\n",
        "\n",
        "Ans: Exception is handled it would see the exception error in the sub class which would be  inherted from the base class \n",
        "\n",
        "Q3. Describe two methods for attaching context information to exception artefacts.\n",
        "\n",
        "Ans:An easy way in which you can pass contextual information to be output along with logging event information is to use the LoggerAdapter class. This class is designed to look like a Logger, so that you can call debug(), info(), warning(), error(), exception(), critical() and log()\n",
        "The process() method of LoggerAdapter is where the contextual information is added to the logging output. It’s passed the message and keyword arguments of the logging call, and it passes back (potentially) modified versions of these to use in the call to the underlying logger.\n",
        "\n",
        "Q4. Describe two methods for specifying the text of an exception objects error message.\n",
        "\n",
        "Ans:Raise and Assert are two methods for specifying the text of an exception object's error message.Raise statement is used to trigger explicit exception, if certain condition is not as per requirement of programmer\n",
        "The assert keyword lets you test if a condition in your code returns True, if not, the program will raise an AssertionError.\n",
        "we can write a message to be written if the code returns False\n",
        "\n",
        "Q5. Why do you no longer use string-based exceptions?\n",
        "\n",
        "Ans:For string exceptions, the associated value itself will be stored in the variable named as the second argument of the except clause (if any). For class exceptions, that variable receives the exception instance. If the exception class is derived from the standard root class Exception, the associated value is present as the exception instance's args attribute, and possibly on other attributes as well in conclusion we can say that class exception inherits from base Exception class where in string this privilege is not available  "
      ],
      "metadata": {
        "id": "naxANyK29NnY"
      }
    }
  ]
}