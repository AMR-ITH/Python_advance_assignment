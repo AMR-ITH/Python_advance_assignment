{
  "nbformat": 4,
  "nbformat_minor": 0,
  "metadata": {
    "colab": {
      "provenance": [],
      "authorship_tag": "ABX9TyOu9SX4TBTix0PYqy/IUzTP",
      "include_colab_link": true
    },
    "kernelspec": {
      "name": "python3",
      "display_name": "Python 3"
    },
    "language_info": {
      "name": "python"
    }
  },
  "cells": [
    {
      "cell_type": "markdown",
      "metadata": {
        "id": "view-in-github",
        "colab_type": "text"
      },
      "source": [
        "<a href=\"https://colab.research.google.com/github/AMR-ITH/Python_advance_assignment/blob/main/Assignment_6.ipynb\" target=\"_parent\"><img src=\"https://colab.research.google.com/assets/colab-badge.svg\" alt=\"Open In Colab\"/></a>"
      ]
    },
    {
      "cell_type": "markdown",
      "source": [
        "Q1. Describe three applications for exception processing.\n",
        "\n",
        "Ans: Try ,except will help to execute entire code without restricting /raising any error to block the code\n",
        "*   User can raise exception when the condition doesn’t meet as per user requirement Where code gets terminated  without executing further instruction in the script\n",
        "*   In some situations, you might want to run a certain block of code if the code block inside tries to run without any errors. For these cases, you can use the optional else keyword with the try statement further we can add instructions to it \n",
        "\n",
        "Q2. What happens if you don't do something extra to treat an exception?\n",
        "\n",
        "Ans:If exception is not handled if error is  present in the instruction /instruction might be right but mathematically won't satisify the condition \n",
        "then execution will terminate at this point abrubtly \n",
        "\n",
        "Q3. What are your options for recovering from an exception in your script?\n",
        "\n",
        "Ans:To recover an exception the user should  know exactly which error would be the exception to be handled for example Consider  ArithmeticError is used after exception (which includes all math related error) which includes subclass errors like zerodivision error.  \n",
        "If the user doesn’t know which error explicitly  to handle in exception  it is better to explode the base exception then to the know about error  \n",
        "\n",
        "Q4. Describe two methods for triggering exceptions in your script.\n",
        "\n",
        "Ans:when ever condition fails in try space in try  and except block  it would trigger exception and consider when conditions passes then it is followed by  raise exception keyword in the newline  then it would trigger exception\n",
        "\n",
        "Q5. Identify two methods for specifying actions to be executed at termination time, regardless of whether or not an exception exists.\n",
        "\n",
        "Ans:Using try and Finally keyword and using exitat module executes the function at the  end of the normal termination however if the instruction inside the function is syntactically wrong  it would through an error but however the runs function executes and returns functions object location \n",
        "\n"
      ],
      "metadata": {
        "id": "8uBJWxZgxgRx"
      }
    }
  ]
}