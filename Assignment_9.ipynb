{
  "nbformat": 4,
  "nbformat_minor": 0,
  "metadata": {
    "colab": {
      "provenance": [],
      "authorship_tag": "ABX9TyNvzC5XHlIpq9Bymj0iNTsk",
      "include_colab_link": true
    },
    "kernelspec": {
      "name": "python3",
      "display_name": "Python 3"
    },
    "language_info": {
      "name": "python"
    }
  },
  "cells": [
    {
      "cell_type": "markdown",
      "metadata": {
        "id": "view-in-github",
        "colab_type": "text"
      },
      "source": [
        "<a href=\"https://colab.research.google.com/github/AMR-ITH/Python_advance_assignment/blob/main/Assignment_9.ipynb\" target=\"_parent\"><img src=\"https://colab.research.google.com/assets/colab-badge.svg\" alt=\"Open In Colab\"/></a>"
      ]
    },
    {
      "cell_type": "markdown",
      "source": [
        "Q1. In Python 3.X, what are the names and functions of string object types?\n",
        "\n",
        "AnsMethod\tDescription\n",
        "capitalize() \tConverts the first character to upper case\n",
        "\n",
        "casefold()\tConverts string into lower case\n",
        "\n",
        "center()\tReturns a centered string\n",
        "\n",
        "count()\tReturns the number of times a specified value occurs in a string\n",
        "\n",
        "encode()\tReturns an encoded version of the string\n",
        "\n",
        "endswith()\tReturns true if the string ends with the specified value\n",
        "\n",
        "expandtabs()\tSets the tab size of the string\n",
        "\n",
        "find()\tSearches the string for a specified value and returns the position of where it was found\n",
        "\n",
        "format()\tFormats specified values in a string\n",
        "\n",
        "format_map()\tFormats specified values in a string\n",
        "\n",
        "index()\tSearches the string for a specified value and returns the position of where it was found\n",
        "\n",
        "isalnum()\tReturns True if all characters in the string are alphanumeric\n",
        "\n",
        "isalpha()\tReturns True if all characters in the string are in the alphabet\n",
        "\n",
        "isascii()\tReturns True if all characters in the string are ascii characters\n",
        "\n",
        "isdecimal()\tReturns True if all characters in the string are decimals\n",
        "\n",
        "isdigit()\tReturns True if all characters in the string are digits\n",
        "\n",
        "isidentifier()\tReturns True if the string is an identifier\n",
        "\n",
        "islower()\tReturns True if all characters in the string are lower case\n",
        "\n",
        "isnumeric()\tReturns True if all characters in the string are numeric\n",
        "\n",
        "isprintable()\tReturns True if all characters in the string are printable\n",
        "\n",
        "isspace()\tReturns True if all characters in the string are whitespaces\n",
        "\n",
        "istitle()\tReturns True if the string follows the rules of a title\n",
        "\n",
        "isupper()\tReturns True if all characters in the string are upper case\n",
        "\n",
        "join()\tConverts the elements of an iterable into a string\n",
        "\n",
        "ljust()\tReturns a left justified version of the string\n",
        "\n",
        "lower()\tConverts a string into lower case\n",
        "\n",
        "lstrip()\tReturns a left trim version of the string\n",
        "\n",
        "maketrans()\tReturns a translation table to be used in translations\n",
        "\n",
        "partition()\tReturns a tuple where the string is parted into three parts\n",
        "\n",
        "replace()\tReturns a string where a specified value is replaced with a specified value\n",
        "\n",
        "rfind()\tSearches the string for a specified value and returns the last position of where it was found\n",
        "\n",
        "rindex()\tSearches the string for a specified value and returns the last position of where it was found\n",
        "\n",
        "rjust()\tReturns a right justified version of the string\n",
        "\n",
        "rpartition()\tReturns a tuple where the string is parted into three parts\n",
        "\n",
        "rsplit()\tSplits the string at the specified separator, and returns a list\n",
        "\n",
        "rstrip()\tReturns a right trim version of the string\n",
        "\n",
        "split()\tSplits the string at the specified separator, and returns a list\n",
        "\n",
        "splitlines()\tSplits the string at line breaks and returns a list\n",
        "\n",
        "startswith()\tReturns true if the string starts with the specified value\n",
        "\n",
        "strip()\tReturns a trimmed version of the string\n",
        "\n",
        "swapcase()\tSwaps cases, lower case becomes upper case and vice versa\n",
        "\n",
        "title()\tConverts the first character of each word to upper case\n",
        "\n",
        "translate()\tReturns a translated string\n",
        "\n",
        "upper()\tConverts a string into upper case\n",
        "\n",
        "zfill()\tFills the string with a specified number of 0 values at the beginning\n",
        "\n",
        "Q2. How do the string forms in Python 3.X vary in terms of operations?\n",
        "\n",
        "Ans: In python 3.x implicitly it takes as utf unicodemethod where as the earlier versions used ascii to use unicode user should mention it explicitly \n",
        "\n",
        "Q3. In 3.X, how do you put non-ASCII Unicode characters in a string?\n",
        "\n",
        "Ans: Non ASCII can be converted into a string which is illustratred in code below\n"
      ],
      "metadata": {
        "id": "-_66AP_3H4tg"
      }
    },
    {
      "cell_type": "code",
      "source": [
        "from unidecode import unidecode\n",
        "  \n",
        "# Get transliteration for following\n",
        "# non-ASCII text (Unicode string)\n",
        "print(unidecode(u'ko\\u017eu\\u0161\\u010dek'))\n",
        "  \n",
        "# Get transliteration for following\n",
        "# non-ASCII text (Devanagari)\n",
        "print(unidecode(\"आप नीचे अपनी भाषा और इनपुट उपकरण चुनें और लिखना आरंभ करें\"))"
      ],
      "metadata": {
        "id": "1xhC-f9YLiWD"
      },
      "execution_count": null,
      "outputs": []
    },
    {
      "cell_type": "markdown",
      "source": [
        "Q4. In Python 3.X, what are the key differences between text-mode and binary-mode files?\n",
        "\n",
        "*   When we get data from a text mode file, python first decodes the raw bytes\n",
        "using platform dependent encoding then again converting it human readable form whereas in binary mode  without decoding it just reflecting raw data file to the user we can conclude that text mode reads complies bit slower compared to \n",
        "binary file \n",
        "*   In text file, text, character, numbers are stored one character per byte i.e. 32667 occupies 5 bytes even though it occupies 2 bytes in memory.\n",
        "In binary file data is stored in binary format and each data would occupy the same number of bytes on disks as it occupies in memory\n",
        "\n",
        "Q5. How can you interpret a Unicode text file containing text encoded in a different encoding than your platform's default?\n",
        "\n",
        "Ans:Using  .encode() and .decode() methods user can interpret text file , the encoding parameter is \"utf-8\" by default, though it’s generally safer and more unambiguous to specify it\n"
      ],
      "metadata": {
        "id": "Q36Zp2JmL-ft"
      }
    },
    {
      "cell_type": "code",
      "source": [
        "\"résumé\".encode(\"utf-8\")\n",
        " b\"r\\xc3\\xa9sum\\xc3\\xa9\".decode(\"utf-8\")"
      ],
      "metadata": {
        "id": "4im3_9SkLTNT"
      },
      "execution_count": null,
      "outputs": []
    },
    {
      "cell_type": "markdown",
      "source": [
        "Q6. What is the best way to make a Unicode text file in a particular encoding format?\n",
        "\n",
        "Ans: Using str.encode() and file.write() to write  unicode  text to  a text file\n",
        "\n",
        "Q7. What qualifies ASCII text as a form of Unicode text?\n",
        "\n",
        "Ans: The first 128 Unicode characters point to ASCII characters. And since UTF-8 encodes each of those characters using 1-byte \n",
        "\n",
        "Q8. How much of an effect does the change in string types in Python 3.X have on your code?\n",
        "\n",
        "Ans: In python 3.X string are of type of utf 8 by default which gives large provision store vast variety of charcters other than english letters which could be emoji and other regional language's of different country"
      ],
      "metadata": {
        "id": "Ox7dsZFETNwD"
      }
    }
  ]
}