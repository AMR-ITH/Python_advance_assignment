{
  "nbformat": 4,
  "nbformat_minor": 0,
  "metadata": {
    "colab": {
      "provenance": [],
      "authorship_tag": "ABX9TyOAClgnj0txN0bFgC2T2kj8",
      "include_colab_link": true
    },
    "kernelspec": {
      "name": "python3",
      "display_name": "Python 3"
    },
    "language_info": {
      "name": "python"
    }
  },
  "cells": [
    {
      "cell_type": "markdown",
      "metadata": {
        "id": "view-in-github",
        "colab_type": "text"
      },
      "source": [
        "<a href=\"https://colab.research.google.com/github/AMR-ITH/Python_advance_assignment/blob/main/Assignment3.ipynb\" target=\"_parent\"><img src=\"https://colab.research.google.com/assets/colab-badge.svg\" alt=\"Open In Colab\"/></a>"
      ]
    },
    {
      "cell_type": "markdown",
      "source": [
        "1. What is the concept of an abstract superclass?\n",
        "\n",
        "Ans:An abstract class can be considered as a blueprint in which methods would be present without any instructions in it However it can be called by inheriting  this parent class to the child class then overriding of the methods of the parent class can be done in child class \n",
        "\n",
        "2. What happens when a class statement&#39;s top level contains a basic assignment statement?\n",
        "\n",
        "Ans:The basic assignment statement below the class would be the class variable or instance attributes of the class\n",
        "\n",
        "3. Why does a class need to manually call a superclass's __init__ method?\n",
        "\n",
        "Ans: when __init__() is redefined, it is the responsibility of the child to initialize its parent using super().__init__() If we forget to do this, we would end up with a half-initialized object and everything will break\n",
        "\n"
      ],
      "metadata": {
        "id": "e7IgXv9xmHrR"
      }
    },
    {
      "cell_type": "code",
      "execution_count": 1,
      "metadata": {
        "id": "NL6cf6ykmAuV"
      },
      "outputs": [],
      "source": [
        "class survival:\n",
        "  def __init__(self,air,water,food):\n",
        "    self.air=air\n",
        "    self.water=water\n",
        "    self.food=food\n",
        "\n",
        "class happy_life(survival):\n",
        "  def __init__(self,air,water,food,job,money,health):\n",
        "    super().__init__(air,water,food)\n",
        "    self.job = job\n",
        "    self.money =money\n",
        "    self.health = health"
      ]
    },
    {
      "cell_type": "markdown",
      "source": [
        "4. How can you augment, instead of completely replacing, an inherited method?\n",
        "\n",
        "Ans:super() method can be used to augment, instead of completely replacing, an inherited method.\n",
        "\n",
        "5. How is the local scope of a class different from that of a function?\n",
        "\n",
        "Ans: In general terms protected variable(instance attributes) can be accessed in the sub class  by inheriting from the parent class  The scope of the variable won’t available outside the subclass (however it can be accessed using keyword ‘_’ i.e not recommended  by coding standards) ,in  private the scope would be present only inside the parent class the scope won’t present inside the subclass or outside of the parent class  and lastly in public  the scope is available in the subclass/outside the parent class it can easily modified but doing so won’t fit in accordance to the coding standards  \n",
        "In functions there are two 2 types of scope local and global  local variable can only be accessed inside the function won’t be accessible outside the function where as the global variable can be accessed outside the function using the keyword global inside the function If any variable value is not present in the local space of the function if the value is present outside the function it would fetch those value (this value refer to global variables) "
      ],
      "metadata": {
        "id": "3W5z9_D7mHwr"
      }
    }
  ]
}