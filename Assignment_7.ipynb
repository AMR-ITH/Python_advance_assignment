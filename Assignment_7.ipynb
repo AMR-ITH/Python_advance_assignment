{
  "nbformat": 4,
  "nbformat_minor": 0,
  "metadata": {
    "colab": {
      "provenance": [],
      "authorship_tag": "ABX9TyOrfTNpZYDQJG+m/KExLWuS",
      "include_colab_link": true
    },
    "kernelspec": {
      "name": "python3",
      "display_name": "Python 3"
    },
    "language_info": {
      "name": "python"
    }
  },
  "cells": [
    {
      "cell_type": "markdown",
      "metadata": {
        "id": "view-in-github",
        "colab_type": "text"
      },
      "source": [
        "<a href=\"https://colab.research.google.com/github/AMR-ITH/Python_advance_assignment/blob/main/Assignment_7.ipynb\" target=\"_parent\"><img src=\"https://colab.research.google.com/assets/colab-badge.svg\" alt=\"Open In Colab\"/></a>"
      ]
    },
    {
      "cell_type": "markdown",
      "source": [
        "Q1. What is the purpose of the try statement?\n",
        "\n",
        "Ans:The try block lets you test a block of code for errors. The except block lets you handle the error. The else block lets you execute code when there is no error\n",
        "\n",
        "Q2. What are the two most popular try statement variations?\n",
        "\n",
        "Ans:try,except and else and try,except and finally\n",
        "\n",
        "Q3. What is the purpose of the raise statement?\n",
        "\n",
        "Ans:If the block of code doesn’t meet the user requirement then user would  raise exception explicitly\n",
        "\n",
        "Q4. What does the assert statement do, and what other statement is it like?\n",
        "\n",
        "Ans:The assert keyword is used when debugging code. The assert keyword lets you test if a condition in your code returns True, if not, the program will raise an AssertionError\n",
        "\n",
        "Q5. What is the purpose of the with/as argument, and what other statement is it like?\n",
        "\n",
        "Ans:With statement in Python is used in exception handling (which is implicitly handled) to make the code cleaner and much more readable\n",
        "The keyword as is used to make alias with programmer selected name, It decreases the chance coincide of the name of the module with the variable name\n"
      ],
      "metadata": {
        "id": "UZQvN6Lk4x2Z"
      }
    }
  ]
}