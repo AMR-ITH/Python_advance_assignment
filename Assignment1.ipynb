{
  "nbformat": 4,
  "nbformat_minor": 0,
  "metadata": {
    "colab": {
      "provenance": [],
      "authorship_tag": "ABX9TyPW4ceEVLOwim3xbUTqUgqA",
      "include_colab_link": true
    },
    "kernelspec": {
      "name": "python3",
      "display_name": "Python 3"
    },
    "language_info": {
      "name": "python"
    }
  },
  "cells": [
    {
      "cell_type": "markdown",
      "metadata": {
        "id": "view-in-github",
        "colab_type": "text"
      },
      "source": [
        "<a href=\"https://colab.research.google.com/github/AMR-ITH/Python_advance_assignment/blob/main/Assignment1.ipynb\" target=\"_parent\"><img src=\"https://colab.research.google.com/assets/colab-badge.svg\" alt=\"Open In Colab\"/></a>"
      ]
    },
    {
      "cell_type": "markdown",
      "source": [
        "Q1. What is the purpose of Python's OOP?\n",
        "\n",
        "*   Provides a clear program structure and a clean code\n",
        "*   Facilitates easy maintenance and modification of existing code\n",
        "*   Since the class is sharable, the code can be reused and many other such Advantages\n",
        "\n",
        "Q2. Where does an inheritance search look for an attribute?\n",
        "\n",
        "Ans:Inheritance looks for attributes in the subclass/child class then in the class the instance was created from, then in all higher superclasses, progressing from left to right\n",
        "\n",
        "Q3. How do you distinguish between a class object and an instance object?\n",
        "\n",
        "Ans:Class object is a blueprint/skeleton for instance of the objects,whenever class is called which is done by declaring\n",
        "to the variable ( i.e instance of the object)\n",
        "\n",
        "\n",
        "\n",
        "\n",
        "\n",
        "\n"
      ],
      "metadata": {
        "id": "IN_GCNHMEZg8"
      }
    },
    {
      "cell_type": "markdown",
      "source": [],
      "metadata": {
        "id": "NOkl9p4UG7MQ"
      }
    },
    {
      "cell_type": "markdown",
      "source": [],
      "metadata": {
        "id": "zCFXN97KG7W9"
      }
    },
    {
      "cell_type": "markdown",
      "source": [],
      "metadata": {
        "id": "4gryAp6aG7a-"
      }
    },
    {
      "cell_type": "markdown",
      "source": [],
      "metadata": {
        "id": "uo5lhT1kG7e6"
      }
    },
    {
      "cell_type": "markdown",
      "source": [],
      "metadata": {
        "id": "cmX_d70HG7kO"
      }
    },
    {
      "cell_type": "code",
      "source": [],
      "metadata": {
        "id": "Xf-RHkY7Fi6V"
      },
      "execution_count": null,
      "outputs": []
    }
  ]
}