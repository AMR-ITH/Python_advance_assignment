{
  "nbformat": 4,
  "nbformat_minor": 0,
  "metadata": {
    "colab": {
      "provenance": [],
      "collapsed_sections": [],
      "authorship_tag": "ABX9TyMxnaVQC85YaATqY3OJH0et",
      "include_colab_link": true
    },
    "kernelspec": {
      "name": "python3",
      "display_name": "Python 3"
    },
    "language_info": {
      "name": "python"
    }
  },
  "cells": [
    {
      "cell_type": "markdown",
      "metadata": {
        "id": "view-in-github",
        "colab_type": "text"
      },
      "source": [
        "<a href=\"https://colab.research.google.com/github/AMR-ITH/Python_advance_assignment/blob/main/Assignment1.ipynb\" target=\"_parent\"><img src=\"https://colab.research.google.com/assets/colab-badge.svg\" alt=\"Open In Colab\"/></a>"
      ]
    },
    {
      "cell_type": "markdown",
      "source": [
        "Q1. What is the purpose of Python's OOP?\n",
        "\n",
        "*   Provides a clear program structure and a clean code\n",
        "*   Facilitates easy maintenance and modification of existing code\n",
        "*   Since the class is sharable, the code can be reused and many other such Advantages\n",
        "\n",
        "Q2. Where does an inheritance search look for an attribute?\n",
        "\n",
        "Ans:Inheritance looks for attributes in the subclass/child class then in the class the instance was created from, then in all higher superclasses, progressing from left to right\n",
        "\n",
        "Q3. How do you distinguish between a class object and an instance object?\n",
        "\n",
        "Ans:Class object is a blueprint/skeleton for instance of the objects,whenever class is called which is done by declaring\n",
        "to the variable ( i.e instance of the object)\n",
        "\n",
        "Q4. What makes the first argument in a class’s method function special?\n",
        "\n",
        "Ans:The first argument in the class method indicates to the instance of object which the function binds too,also helps identifying which instance of the object it belong's\n",
        "\n",
        "Q5. What is the purpose of the __init__ method?\n",
        "\n",
        "Ans:The  __init__ method helps in  initializing the instance variable (also called attributes) for the instance of class by providing data to the class \n",
        "\n",
        "Q6. What is the process for creating a class instance?\n",
        "\n",
        "Ans Class instance can be created by declaring variable to the class i.e variable is nothing but object ex: amr=class_amr()\n",
        "\n",
        "Q7. What is the process for creating a class?\n",
        "\n",
        "Ans:eyword class followed by class name with parenthesies ex: class class_amr: pass"
      ],
      "metadata": {
        "id": "IN_GCNHMEZg8"
      }
    },
    {
      "cell_type": "code",
      "source": [
        "class class_amr:\n",
        "    def __int__(self):\n",
        "        print('instance variable/attribute')\n",
        "        \n",
        "    def method(self):\n",
        "        print('methods')"
      ],
      "metadata": {
        "id": "A8dr-G9iISj9"
      },
      "execution_count": 1,
      "outputs": []
    },
    {
      "cell_type": "markdown",
      "source": [
        "Q8. How would you define the superclasses of a class?\n",
        "\n",
        "Ans:The subclass from which a class inherits is called the parent or superclass. A class which inherits from a superclass is called a subclass or child class"
      ],
      "metadata": {
        "id": "NOkl9p4UG7MQ"
      }
    }
  ]
}