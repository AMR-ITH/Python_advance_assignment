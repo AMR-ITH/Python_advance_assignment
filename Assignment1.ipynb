{
  "nbformat": 4,
  "nbformat_minor": 0,
  "metadata": {
    "colab": {
      "provenance": [],
      "authorship_tag": "ABX9TyNvdwU0H3yAvqQz9YtjWb+v",
      "include_colab_link": true
    },
    "kernelspec": {
      "name": "python3",
      "display_name": "Python 3"
    },
    "language_info": {
      "name": "python"
    }
  },
  "cells": [
    {
      "cell_type": "markdown",
      "metadata": {
        "id": "view-in-github",
        "colab_type": "text"
      },
      "source": [
        "<a href=\"https://colab.research.google.com/github/AMR-ITH/Python_advance_assignment/blob/main/Assignment1.ipynb\" target=\"_parent\"><img src=\"https://colab.research.google.com/assets/colab-badge.svg\" alt=\"Open In Colab\"/></a>"
      ]
    },
    {
      "cell_type": "markdown",
      "source": [
        "Q1. What is the purpose of Python's OOP?\n",
        "\n",
        "*   Provides a clear program structure and a clean code\n",
        "*   Facilitates easy maintenance and modification of \n",
        "existing code\n",
        "*   Since the class is sharable, the code can be reused and many other such Advantages\n",
        "\n",
        "\n",
        "\n",
        "\n",
        "\n",
        "\n",
        "\n"
      ],
      "metadata": {
        "id": "IN_GCNHMEZg8"
      }
    },
    {
      "cell_type": "code",
      "source": [],
      "metadata": {
        "id": "Xf-RHkY7Fi6V"
      },
      "execution_count": null,
      "outputs": []
    }
  ]
}