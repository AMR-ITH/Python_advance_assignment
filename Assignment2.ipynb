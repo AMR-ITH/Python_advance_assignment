{
  "nbformat": 4,
  "nbformat_minor": 0,
  "metadata": {
    "colab": {
      "provenance": [],
      "collapsed_sections": [],
      "authorship_tag": "ABX9TyNivPJOy0hLfTJVwGX+Bdd3",
      "include_colab_link": true
    },
    "kernelspec": {
      "name": "python3",
      "display_name": "Python 3"
    },
    "language_info": {
      "name": "python"
    }
  },
  "cells": [
    {
      "cell_type": "markdown",
      "metadata": {
        "id": "view-in-github",
        "colab_type": "text"
      },
      "source": [
        "<a href=\"https://colab.research.google.com/github/AMR-ITH/Python_advance_assignment/blob/main/Assignment2.ipynb\" target=\"_parent\"><img src=\"https://colab.research.google.com/assets/colab-badge.svg\" alt=\"Open In Colab\"/></a>"
      ]
    },
    {
      "cell_type": "markdown",
      "source": [
        "Q1. What is the relationship between classes and modules?\n",
        "\n",
        "Ans: A module is simply any python file(something ending in.py).Modules provide a way to split code into multiple files and make programs easier to understand.which basically consists group of classes From this modules classes can me called to location where the user is scripting the code .Whereas class is the blueprint \n",
        "\n",
        "Q2. How do you make instances and classes?\n",
        "\n",
        "Ans:Classes can be defined by keyword class followed by classname ex: class name():\n",
        "\n",
        "Instance it can be made by calling the class name (i.e name) which is declared to the variable this instance of class can be identified by word explicit mentioning “self” keyword While creating attributes and methods inside the class name\n",
        "\n",
        "Q3. Where and how should be class attributes created?\n",
        "\n",
        "Ans:Class attributes can be created after defining keyword class followed by class name with parentheses and semicolon, next in the newline we can create class\n",
        "attributes  ex: class name():a=5 where variable a is the class attribute\n",
        "\n",
        "Q4. Where and how are instance attributes created?\n",
        "\n",
        "Ans:Instance  attributes can created with help of method __init__ \n",
        "Which responsible to provide data to the instance of the class"
      ],
      "metadata": {
        "id": "6dwKlSXRNfMu"
      }
    },
    {
      "cell_type": "code",
      "source": [
        "class system():\n",
        "  def __init__(self,os,processor,ram,hd):\n",
        "    self.os=os\n",
        "    self.processor=processor\n",
        "    self.ram=ram\n",
        "    self.hd=hd"
      ],
      "metadata": {
        "id": "17bTTK8ORX60"
      },
      "execution_count": 1,
      "outputs": []
    },
    {
      "cell_type": "markdown",
      "source": [
        "\n",
        "Q5. What does the term &quot;self&quot; in a Python class mean?\n",
        "\n",
        "Ans:Self is a pointer which always points to the object/(instance of the class) \n",
        "\n",
        "Q6. How does a Python class handle operator overloading?\n",
        "\n",
        "Ans:Python overloading can be handled using special functions which starts with __ (__add__,__mult__) which  is know as dunder method\n",
        "\n",
        "Q7. When do you consider allowing operator overloading of your classes?\n",
        "\n",
        "Ans:We would consider operator overloading when we differ from Standard/ specific output from that function or extra meaning to standard method \n",
        "\n",
        "Q8. What is the most popular form of operator overloading?\n",
        "\n",
        "Ans:Addition operator(+) which be used in addition of two numbers, concatenation of two or more strings/lists i.e we are overloading the meaning of operator(+) in case of integer it will two numbers and strings,list concat with other   \n",
        "\n",
        "Q9. What are the two most important concepts to grasp in order to comprehend Python OOP code?\n",
        "\n",
        "Ans:Two important concepts in python are inheritance and polymorphism."
      ],
      "metadata": {
        "id": "AWPgdYUcNfTr"
      }
    }
  ]
}